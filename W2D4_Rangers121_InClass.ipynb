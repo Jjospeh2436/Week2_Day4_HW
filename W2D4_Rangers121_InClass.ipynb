{
 "cells": [
  {
   "cell_type": "markdown",
   "metadata": {},
   "source": [
    "# User-Defined Functions & Scoping"
   ]
  },
  {
   "cell_type": "markdown",
   "metadata": {},
   "source": [
    "## Tasks Today:\n",
    "\n",
    "\n",
    "1) Functions <br>\n",
    " &nbsp;&nbsp;&nbsp;&nbsp; a) User-Defined vs. Built-In Functions <br>\n",
    " &nbsp;&nbsp;&nbsp;&nbsp; b) Accepting Parameters <br>\n",
    " &nbsp;&nbsp;&nbsp;&nbsp; c) Default Parameters <br>\n",
    " &nbsp;&nbsp;&nbsp;&nbsp; d) Making an Argument Optional <br>\n",
    " &nbsp;&nbsp;&nbsp;&nbsp; e) Keyword Arguments <br>\n",
    " &nbsp;&nbsp;&nbsp;&nbsp; f) Returning Values <br>\n",
    " &nbsp;&nbsp;&nbsp;&nbsp; g) *args <br>\n",
    " &nbsp;&nbsp;&nbsp;&nbsp; h) Docstring <br>\n",
    " &nbsp;&nbsp;&nbsp;&nbsp; i) Using a User Function in a Loop <br>\n",
    "2) Scope\n",
    "3) Creating more User-Defined functions "
   ]
  },
  {
   "cell_type": "markdown",
   "metadata": {},
   "source": [
    "\n",
    "## Functions"
   ]
  },
  {
   "cell_type": "markdown",
   "metadata": {},
   "source": [
    "##### User-Defined vs. Built-In Functions"
   ]
  },
  {
   "cell_type": "code",
   "execution_count": 1,
   "metadata": {},
   "outputs": [
    {
     "name": "stdout",
     "output_type": "stream",
     "text": [
      "Hello\n",
      "Hello again\n",
      "HELLO AGAIN\n",
      "Hello\n"
     ]
    }
   ],
   "source": [
    "#Built-in function\n",
    "#print(\"Hello\")\n",
    "print(\"Hello\")\n",
    "\n",
    "#user defined function\n",
    "\n",
    "#ef precedes every function name\n",
    "#def keyword function name (which can be anything, its just a variable name) parentheses(parameter) **not all functions\n",
    "#will accept parameters\n",
    "def say_hello():\n",
    "    return \"Hello\" #output of a function\n",
    "#return will give us a tangible value we can work with, pass into other functions, alter, set to variable\n",
    "\n",
    "say_hello() #calling a function\n",
    "#call a function by typing the name of the function followed by parentheses\n",
    "\n",
    "def say_hello2():\n",
    "    return \"Hello again\"\n",
    "\n",
    "say_hello2()\n",
    "\n",
    "output = say_hello2() #setting a variable to the output of a function\n",
    "print(output)\n",
    "\n",
    "print(say_hello2().upper()) # change the shape of the output with a built-in function\n",
    "\n",
    "#use the output of a function inside another function\n",
    "def say_hello3():\n",
    "    hello = say_hello() #setting a varibale inside a function to the output of another function\n",
    "    return hello.title() #title casing output from another function\n",
    "\n",
    "print(say_hello3())\n"
   ]
  },
  {
   "cell_type": "markdown",
   "metadata": {},
   "source": [
    "##### Accepting Parameters"
   ]
  },
  {
   "cell_type": "code",
   "execution_count": 2,
   "metadata": {
    "scrolled": true
   },
   "outputs": [
    {
     "name": "stdout",
     "output_type": "stream",
     "text": [
      "[4, 16, 36, 64]\n",
      "[100, 144, 196]\n"
     ]
    }
   ],
   "source": [
    "# elements passed into a function\n",
    "# variables to hold the place of items our function will act upon\n",
    "# order matters\n",
    "# a parameter can be of any object type (data type)\n",
    "                    #parameter\n",
    "# def square_even(a_list):\n",
    "#     for num in a_list:\n",
    "#         if num % 2 == 0:\n",
    "\n",
    "def print_something(something):\n",
    "    return something\n",
    "#when calling a function, the thing you put in the parenthesies is called an argument\n",
    "#the difference between a parameter and an argument:\n",
    "#a parameter is a placeholder for an argument\n",
    "#an argument is the function acts on\n",
    "\n",
    "\n",
    "print_something(\"Hello\")\n",
    "\n",
    "def adlib(noun, adjective, verb):\n",
    "    return f\"The {adjective} {noun} {verb} to the bathroom\"\n",
    "adlib(\"pumpkin\", \"scary\", \"sleeps\")\n",
    "\n",
    "list1 = [2, 3, 4, 5, 6, 7, 8]\n",
    "list2 = [9, 10, 11, 12, 13, 14, 15]\n",
    "\n",
    "def square_even(a_list):\n",
    "    blist = []\n",
    "    for num in a_list:\n",
    "        if num % 2 == 0:\n",
    "            blist.append(num**2)\n",
    "    return(blist)\n",
    "\n",
    "print(square_even(list1))\n",
    "\n",
    "print(square_even(list2))"
   ]
  },
  {
   "cell_type": "markdown",
   "metadata": {},
   "source": [
    "##### Default Parameters"
   ]
  },
  {
   "cell_type": "code",
   "execution_count": 3,
   "metadata": {},
   "outputs": [
    {
     "name": "stdout",
     "output_type": "stream",
     "text": [
      "The name is Bond, James Bond\n",
      "The name is Borf, Jimmy Borf\n"
     ]
    }
   ],
   "source": [
    "# default parameters must always come after non-default parameters at all times forever and ever...or else\n",
    "#for as many parameters as our function accepts, it needs to take in that many arguments, no more, no less\n",
    "\n",
    "#example of what happens when too many or too few arguments are provided\n",
    "# def print_name(name):\n",
    "#     return name\n",
    "# print(print_name())\n",
    "\n",
    "def agent_name(first_name, last_name = \"Bond\"):\n",
    "    return f\"The name is {last_name}, {first_name} {last_name}\"\n",
    "\n",
    "print(agent_name(\"James\"))\n",
    "print(agent_name(\"Jimmy\", \"Borf\"))"
   ]
  },
  {
   "cell_type": "code",
   "execution_count": 4,
   "metadata": {},
   "outputs": [],
   "source": [
    "# default parameters must always come after non-default parameters at all times forever and ever...or else\n",
    "\n"
   ]
  },
  {
   "cell_type": "markdown",
   "metadata": {},
   "source": [
    "##### Making an Argument Optional"
   ]
  },
  {
   "cell_type": "code",
   "execution_count": 5,
   "metadata": {},
   "outputs": [
    {
     "name": "stdout",
     "output_type": "stream",
     "text": [
      "Hello Mr.  ED the horse\n",
      "Hello Mr. Cool Guy ED the horse\n",
      "Hello Mr. Shadowfax  the horse\n"
     ]
    }
   ],
   "source": [
    "def print_horse_name(first, middle =\"\", last = \"ED\"):\n",
    "    return f\"Hello {first} {middle} {last} the horse\"\n",
    "print(print_horse_name(\"Mr.\"))\n",
    "print(print_horse_name(\"Mr.\", \"Cool Guy\"))\n",
    "\n",
    "print(print_horse_name(\"Mr.\", \"Shadowfax\", \"\"))"
   ]
  },
  {
   "cell_type": "markdown",
   "metadata": {},
   "source": [
    "##### Keyword Arguments"
   ]
  },
  {
   "cell_type": "code",
   "execution_count": 6,
   "metadata": {},
   "outputs": [
    {
     "name": "stdout",
     "output_type": "stream",
     "text": [
      "-20\n",
      "Batman's power is Money and their secret identity is Bruce Wayne\n"
     ]
    }
   ],
   "source": [
    "#keyword arguments must follow positional arugments\n",
    "#positional arguments are arguments that fulfill the same location as the parameter they're referencing\n",
    "\n",
    "def subtract_nums(num1, num2, num3):\n",
    "    return num3 - num2 - num1\n",
    "\n",
    "print(subtract_nums(40, 20, 40))\n",
    "\n",
    "#keyword arguments are varibales that are created when the function is called\n",
    "def print_hero(name, secret_identity, power=\"flying\"):\n",
    "    return f\"{name}'s power is {power} and their secret identity is {secret_identity}\"\n",
    "print(print_hero(\"Batman\", secret_identity = \"Bruce Wayne\", power = \"Money\", ))"
   ]
  },
  {
   "cell_type": "markdown",
   "metadata": {},
   "source": [
    "# Creating a start, stop, step function"
   ]
  },
  {
   "cell_type": "code",
   "execution_count": 7,
   "metadata": {
    "scrolled": true
   },
   "outputs": [
    {
     "name": "stdout",
     "output_type": "stream",
     "text": [
      "0\n",
      "1\n",
      "2\n",
      "3\n",
      "4\n",
      "5\n",
      "6\n",
      "7\n",
      "8\n",
      "9\n",
      "10\n",
      "11\n",
      "12\n",
      "13\n",
      "14\n",
      "\n",
      "\n",
      "1\n",
      "3\n",
      "5\n",
      "7\n",
      "9\n",
      "11\n",
      "13\n"
     ]
    },
    {
     "data": {
      "text/plain": [
       "\"Hey great job, you're beatiful\""
      ]
     },
     "execution_count": 7,
     "metadata": {},
     "output_type": "execute_result"
    }
   ],
   "source": [
    "def my_range(stop, start = 0, step = 1):\n",
    "    for i in range(start, stop, step):\n",
    "        print(i)\n",
    "    return \"Hey great job, you're beatiful\"\n",
    "\n",
    "my_range(15)\n",
    "print(\"\\n\")\n",
    "my_range(15, 1, 2)"
   ]
  },
  {
   "cell_type": "code",
   "execution_count": 8,
   "metadata": {},
   "outputs": [
    {
     "data": {
      "text/plain": [
       "[0, 1, 2, 3, 4, 5, 6, 7, 8, 9, 10, 11, 12, 13, 14]"
      ]
     },
     "execution_count": 8,
     "metadata": {},
     "output_type": "execute_result"
    }
   ],
   "source": [
    "def my_range(stop, start = 0, step = 1):\n",
    "    range_list = []\n",
    "    while start < stop:\n",
    "        range_list.append(start)\n",
    "        start += step\n",
    "    return range_list\n",
    "my_range(15)"
   ]
  },
  {
   "cell_type": "markdown",
   "metadata": {},
   "source": [
    "##### Returning Values"
   ]
  },
  {
   "cell_type": "code",
   "execution_count": 9,
   "metadata": {},
   "outputs": [
    {
     "name": "stdout",
     "output_type": "stream",
     "text": [
      "something\n"
     ]
    }
   ],
   "source": [
    "def return_something(something):\n",
    "    return something\n",
    "print(return_something(\"something\"))"
   ]
  },
  {
   "cell_type": "markdown",
   "metadata": {},
   "source": [
    "##### *args / **kwargs (keyword arguments)"
   ]
  },
  {
   "cell_type": "code",
   "execution_count": 10,
   "metadata": {},
   "outputs": [
    {
     "name": "stdout",
     "output_type": "stream",
     "text": [
      "These are my positional arguments 20 23 Yamcha\n",
      "These are my *args, ('Goku', 'Krillin', 'Gohan')\n",
      "These are my **kwargs, {'bad_guy': 'Cell', 'bad_guy2': 'Frieza', 'dragon_balls': [1, 2, 3, 4, 5, 6, 7]}\n"
     ]
    }
   ],
   "source": [
    "#*args, **kwargs\n",
    "# *args stands for arguments and will allow the function to take in any number of arguments\n",
    "# **kwargs stands for key word arguments and will allow the function to take in any number of keyword arguments\n",
    "# if other parameters are present, args and kwarfs must go last\n",
    "\n",
    "def print_args(num1, num2, name, *stuff, **dbzstuff):\n",
    "    print(\"These are my positional arguments\", num1, num2, name)\n",
    "    print(\"These are my *args,\", stuff)\n",
    "    print(\"These are my **kwargs,\", dbzstuff)\n",
    "    \n",
    "print_args(20, 23, \"Yamcha\", \"Goku\", \"Krillin\", \"Gohan\", bad_guy = \"Cell\", bad_guy2 = \"Frieza\", dragon_balls = [1, 2, 3, 4, 5, 6, 7])\n"
   ]
  },
  {
   "cell_type": "code",
   "execution_count": 11,
   "metadata": {},
   "outputs": [
    {
     "name": "stdout",
     "output_type": "stream",
     "text": [
      "looping through all of our *args\n",
      "('Krillin', 'Goku', 'Piccolo', 'Dende', 'Gohan')\n",
      "Krillin\n",
      "Goku\n",
      "Piccolo\n",
      "Dende\n",
      "Gohan\n",
      "{'Krillen': 'Destructo Disc', 'Goku': 'Kamehameha', 'Piccolo': 'Special Bean Cannon', 'Gohan': 'Kamehameha'}\n",
      "Krillen's special move is Destructo Disc\n",
      "Goku's special move is Kamehameha\n",
      "Piccolo's special move is Special Bean Cannon\n",
      "Gohan's special move is Kamehameha\n"
     ]
    }
   ],
   "source": [
    "def dbz_info(*characters, **signature_moves):\n",
    "    print(\"looping through all of our *args\")\n",
    "    print(characters)\n",
    "    for char in characters:\n",
    "        print(char)\n",
    "    print(signature_moves)\n",
    "    for k, v in signature_moves.items():\n",
    "        print(f\"{k}'s special move is {v}\")\n",
    "dbz_info(\"Krillin\", \"Goku\", \"Piccolo\", \"Dende\", \"Gohan\", Krillen = \"Destructo Disc\", Goku = \"Kamehameha\", Piccolo = \"Special Bean Cannon\", Gohan = \"Kamehameha\")"
   ]
  },
  {
   "cell_type": "markdown",
   "metadata": {},
   "source": [
    "##### Docstring"
   ]
  },
  {
   "cell_type": "code",
   "execution_count": 12,
   "metadata": {},
   "outputs": [
    {
     "name": "stdout",
     "output_type": "stream",
     "text": [
      "Help on function title_names in module __main__:\n",
      "\n",
      "title_names(arr)\n",
      "    title_names(arr)\n",
      "    Function expects a list of strings to be passed in as an argument\n",
      "    It will loop through the list of strings, capitalize them and return\n",
      "    a new list with the title-cased strings.\n",
      "\n"
     ]
    }
   ],
   "source": [
    "# docstrings are a really nice way to leave notes about funciontality in your code\n",
    "# provide instructions\n",
    "\n",
    "def title_names(arr):\n",
    "    \"\"\"\n",
    "    title_names(arr)\n",
    "    Function expects a list of strings to be passed in as an argument\n",
    "    It will loop through the list of strings, capitalize them and return\n",
    "    a new list with the title-cased strings.\n",
    "    \"\"\"\n",
    "    titles = []\n",
    "    for name in arr:\n",
    "        titles.append(name.title())\n",
    "    return titles\n",
    "\n",
    "help(title_names)\n",
    "    \n",
    "\n",
    "    "
   ]
  },
  {
   "cell_type": "markdown",
   "metadata": {},
   "source": [
    "##### Using a User Function in a Loop"
   ]
  },
  {
   "cell_type": "code",
   "execution_count": 13,
   "metadata": {},
   "outputs": [],
   "source": [
    "store = {}"
   ]
  },
  {
   "cell_type": "code",
   "execution_count": 14,
   "metadata": {},
   "outputs": [
    {
     "name": "stdout",
     "output_type": "stream",
     "text": [
      "add somethingtomato\n",
      "add somethingtomato\n"
     ]
    },
    {
     "data": {
      "text/plain": [
       "{'tomato': 'tomato'}"
      ]
     },
     "execution_count": 14,
     "metadata": {},
     "output_type": "execute_result"
    }
   ],
   "source": [
    "\n",
    "\n",
    "def add_to_store(storage):\n",
    "    item = input(\"add something\")\n",
    "    quantity = input (\"add something\")\n",
    "    \n",
    "    storage[item] = quantity\n",
    "    \n",
    "    return storage\n",
    "add_to_store(store)\n"
   ]
  },
  {
   "cell_type": "code",
   "execution_count": 15,
   "metadata": {
    "scrolled": true
   },
   "outputs": [
    {
     "name": "stdout",
     "output_type": "stream",
     "text": [
      "{'tomato': 'tomato'}\n"
     ]
    }
   ],
   "source": [
    "print(store)"
   ]
  },
  {
   "cell_type": "code",
   "execution_count": 16,
   "metadata": {},
   "outputs": [
    {
     "name": "stdout",
     "output_type": "stream",
     "text": [
      "What would you like to do? add, remove, show, quit? add\n",
      "What would you like to add?tomato\n",
      "How many tomato would you like to add?5\n",
      "What would you like to do? add, remove, show, quit? add\n",
      "What would you like to add?potato\n",
      "How many potato would you like to add?4\n",
      "What would you like to do? add, remove, show, quit? remove\n",
      "What would you like to remove from your cart? potato\n",
      "What would you like to do? add, remove, show, quit? show\n",
      "{'tomato': 5}\n",
      "What would you like to do? add, remove, show, quit? quit\n",
      "{'tomato': 5}\n"
     ]
    }
   ],
   "source": [
    "cart = {}\n",
    "\n",
    "def add_item(user_cart):\n",
    "    item = input(\"What would you like to add?\" )\n",
    "    quantity = int(input(f\"How many {item} would you like to add?\" ))\n",
    "    \n",
    "    if item not in user_cart:\n",
    "        user_cart[item] = quantity\n",
    "    else:\n",
    "        user_cart[item] += quantity\n",
    "        \n",
    "def remove_item(user_cart):\n",
    "    item = input(\"What would you like to remove from your cart? \")\n",
    "    del user_cart[item]\n",
    "    \n",
    "def view_cart(user_cart):\n",
    "    print(user_cart)\n",
    "    \n",
    "def run(user_cart):\n",
    "    while True:\n",
    "        response = input(\"What would you like to do? add, remove, show, quit? \")\n",
    "        if response.lower() == \"add\":\n",
    "            add_item(user_cart)\n",
    "        elif response.lower() == \"remove\":\n",
    "            remove_item(user_cart)\n",
    "        elif response.lower() == \"show\":\n",
    "            view_cart(user_cart)\n",
    "        elif response.lower() == \"quit\":\n",
    "            print(user_cart)\n",
    "            break\n",
    "        else:\n",
    "            print(\"Please enter a valid response\")\n"
   ]
  },
  {
   "cell_type": "code",
   "execution_count": 17,
   "metadata": {},
   "outputs": [
    {
     "name": "stdout",
     "output_type": "stream",
     "text": [
      "What would you like to do? add, remove, show, quit? show\n",
      "{'tomato': 5}\n",
      "What would you like to do? add, remove, show, quit? quit\n",
      "{'tomato': 5}\n"
     ]
    }
   ],
   "source": [
    "run(cart)"
   ]
  },
  {
   "cell_type": "markdown",
   "metadata": {},
   "source": [
    "## Function Exercises <br>\n",
    "### Exercise 1\n",
    "<p>Write a function that loops through a list of first_names and a list of last_names, combines the two and return a list of full_names</p>"
   ]
  },
  {
   "cell_type": "code",
   "execution_count": null,
   "metadata": {},
   "outputs": [],
   "source": []
  },
  {
   "cell_type": "code",
   "execution_count": 17,
   "metadata": {},
   "outputs": [
    {
     "name": "stdout",
     "output_type": "stream",
     "text": [
      "Those two lists are of different lengths! And I don't want to deal with that\n"
     ]
    },
    {
     "data": {
      "text/plain": [
       "['John Smith']"
      ]
     },
     "execution_count": 17,
     "metadata": {},
     "output_type": "execute_result"
    }
   ],
   "source": [
    "first_name = ['John', 'Evan', 'Jordan', 'Max', 'James']\n",
    "last_name = ['Smith', 'Smith', 'Williams', 'Bell']\n",
    "\n",
    "# Output: ['John Smith', 'Evan Smith', 'Jordan Williams', 'Max Bell']\n",
    "\n",
    "def full_names(fname, lname):\n",
    "    empty_list = []\n",
    "    for i in range(len(first_name)):\n",
    "        empty_list.append(fname[i] + \" \" + lname[i])\n",
    "        if i != len(lname):\n",
    "            print(\"Those two lists are of different lengths! And I don't want to deal with that\")\n",
    "            return empty_list\n",
    "    return empty_list\n",
    "\n",
    "full_names(first_name, last_name)\n",
    "\n",
    "        \n"
   ]
  },
  {
   "cell_type": "markdown",
   "metadata": {},
   "source": [
    "### Exercise 2\n",
    "Create a function that alters all values in the given list by subtracting 5 and then doubling them."
   ]
  },
  {
   "cell_type": "code",
   "execution_count": 25,
   "metadata": {},
   "outputs": [
    {
     "data": {
      "text/plain": [
       "[0, 10, 20, 30, -4]"
      ]
     },
     "execution_count": 25,
     "metadata": {},
     "output_type": "execute_result"
    }
   ],
   "source": [
    "input_list = [5,10,15,20,3]\n",
    "# output = [0,10,20,30,-4]\n",
    "\n",
    "def subtract_double(lists): #function with lists being the placeholder for the argument input_list\n",
    "    new_list = [] #new list created\n",
    "    for index_value in range(len(lists)): #looping throught the input_list\n",
    "        new_list.append(((lists[index_value] - 5) * 2)) #equation that is subtracting by 5 and then doubling, then is being added\n",
    "        #to the new list\n",
    "    return new_list\n",
    "\n",
    "subtract_double(input_list)\n"
   ]
  },
  {
   "cell_type": "markdown",
   "metadata": {},
   "source": [
    "### Exercise 3\n",
    "Create a function that takes in a list of strings and filters out the strings that DO NOT contain vowels. "
   ]
  },
  {
   "cell_type": "code",
   "execution_count": 33,
   "metadata": {},
   "outputs": [
    {
     "data": {
      "text/plain": [
       "['Sheldon', 'Leonard', 'Amy']"
      ]
     },
     "execution_count": 33,
     "metadata": {},
     "output_type": "execute_result"
    }
   ],
   "source": [
    "string_list = ['Sheldon','Pnny','Leonard','Hwrd','Rj','Amy','Strt']\n",
    "# output = ['Sheldon','Leonard','Amy']\n",
    "\n",
    "def vowels(lists):\n",
    "    new_names = []\n",
    "    for name in lists:\n",
    "        for letter in name.lower():\n",
    "            if letter == 'a' or letter == 'e' or letter == 'i' or letter == 'o' or letter == 'u':\n",
    "                new_names.append(name)\n",
    "                break\n",
    "    return new_names\n",
    "vowels(string_list)"
   ]
  },
  {
   "cell_type": "code",
   "execution_count": null,
   "metadata": {},
   "outputs": [],
   "source": []
  },
  {
   "cell_type": "code",
   "execution_count": null,
   "metadata": {},
   "outputs": [],
   "source": []
  },
  {
   "cell_type": "markdown",
   "metadata": {},
   "source": [
    "### Exercise 4\n",
    "Create a function that accepts a list as a parameter and returns a dictionary containing the list items as it's keys, and the number of times they appear in the list as the values"
   ]
  },
  {
   "cell_type": "code",
   "execution_count": 36,
   "metadata": {},
   "outputs": [
    {
     "data": {
      "text/plain": [
       "{'Harry': 3, 'Hermione': 2, 'Ron': 4, 'Dobby': 1, 'Draco': 1, 'Luna': 1}"
      ]
     },
     "execution_count": 36,
     "metadata": {},
     "output_type": "execute_result"
    }
   ],
   "source": [
    "example_list = [\"Harry\", 'Hermione','Harry','Ron','Dobby','Draco','Luna','Harry','Hermione','Ron','Ron','Ron']\n",
    "\n",
    "# output = {\n",
    "#     \"Harry\":3,\n",
    "#     \"Hermione\":2,\n",
    "#     \"Ron\":4,\n",
    "#     \"Dobby\":1,\n",
    "#     \"Draco\":1,\n",
    "#     \"Luna\": 1\n",
    "# }\n",
    "\n",
    "def new_dict(lists):\n",
    "    empty_dict = {}\n",
    "    for name in lists:\n",
    "        if name not in empty_dict: \n",
    "            empty_dict[name] = 1 #adds name to dict\n",
    "        else: \n",
    "            empty_dict[name] += 1; #increments by 1 if name is in dict\n",
    "    return empty_dict\n",
    "new_dict(example_list)\n",
    "            "
   ]
  },
  {
   "cell_type": "markdown",
   "metadata": {},
   "source": [
    "\n",
    "\n",
    "## Scope <br>\n",
    "<p>Scope refers to the ability to access variables, different types of scope include:<br>a) Global<br>b) Function (local)<br>c) Class (local)</p>"
   ]
  },
  {
   "cell_type": "code",
   "execution_count": 37,
   "metadata": {},
   "outputs": [
    {
     "name": "stdout",
     "output_type": "stream",
     "text": [
      "1\n",
      "2\n",
      "3\n",
      "4\n",
      "5\n",
      "6\n",
      "7\n",
      "8\n",
      "9\n",
      "10\n"
     ]
    }
   ],
   "source": [
    "# placement of variable declaration matters\n",
    "name = \"Orlando Bloom\" #Global Variable\n",
    "#global variable can be accessed by anything on that file\n",
    "\n",
    "def increment_stuff():\n",
    "    counter = 0 #locally scoped function variable\n",
    "    while counter < 10:\n",
    "        counter += 1\n",
    "        print(counter)\n",
    "\n",
    "# print(counter) nameerror because counter is not defined outside of function\n",
    "\n",
    "increment_stuff()"
   ]
  },
  {
   "cell_type": "markdown",
   "metadata": {},
   "source": [
    "## Modules"
   ]
  },
  {
   "cell_type": "markdown",
   "metadata": {},
   "source": [
    "##### Importing Entire Modules\n"
   ]
  },
  {
   "cell_type": "code",
   "execution_count": 42,
   "metadata": {},
   "outputs": [
    {
     "name": "stdout",
     "output_type": "stream",
     "text": [
      "2\n",
      "3\n",
      "4\n",
      "3.141592653589793\n",
      "3.141592653589793\n"
     ]
    }
   ],
   "source": [
    "## Modules\n",
    "\n",
    "import math\n",
    "num = 5\n",
    "num2 = 2\n",
    "num3 = num//num2\n",
    "print(num3)\n",
    "\n",
    "print(math.ceil(5/2))\n",
    "\n",
    "print(math.ceil(math.pi))\n",
    "\n",
    "print(math.pi)\n",
    "\n",
    "pie = math.pi\n",
    "\n",
    "print(pie)"
   ]
  },
  {
   "cell_type": "markdown",
   "metadata": {},
   "source": [
    "##### Importing Methods Only"
   ]
  },
  {
   "cell_type": "code",
   "execution_count": 43,
   "metadata": {},
   "outputs": [
    {
     "name": "stdout",
     "output_type": "stream",
     "text": [
      "2\n"
     ]
    }
   ],
   "source": [
    "# from xxx import yyy\n",
    "#from math import floor\n",
    "from math import floor\n",
    "print(floor(2.5))"
   ]
  },
  {
   "cell_type": "markdown",
   "metadata": {},
   "source": [
    "##### Using the 'as' Keyword"
   ]
  },
  {
   "cell_type": "code",
   "execution_count": 45,
   "metadata": {},
   "outputs": [
    {
     "name": "stdout",
     "output_type": "stream",
     "text": [
      "3.141592653589793\n",
      "3\n"
     ]
    }
   ],
   "source": [
    "# from xxx import yyy as z\n",
    "from math import floor as f, pi as p\n",
    "print(p)\n",
    "print(f(p))"
   ]
  },
  {
   "cell_type": "markdown",
   "metadata": {},
   "source": [
    "##### Creating a Module"
   ]
  },
  {
   "cell_type": "code",
   "execution_count": 47,
   "metadata": {},
   "outputs": [
    {
     "name": "stdout",
     "output_type": "stream",
     "text": [
      "Hello Mr/Ms Javier...we've been waiting for you!\n"
     ]
    }
   ],
   "source": [
    "from module import printName as pn\n",
    "\n",
    "pn(\"Javier\")\n"
   ]
  },
  {
   "cell_type": "code",
   "execution_count": null,
   "metadata": {},
   "outputs": [],
   "source": []
  },
  {
   "cell_type": "code",
   "execution_count": null,
   "metadata": {},
   "outputs": [],
   "source": []
  },
  {
   "cell_type": "markdown",
   "metadata": {},
   "source": [
    "# Homework Exercises"
   ]
  },
  {
   "cell_type": "markdown",
   "metadata": {},
   "source": [
    "### 1) Create a Module in VS Code and Import It into jupyter notebook <br>\n",
    "<p><b>Module should have the following capabilities:</b><br><br>\n",
    "1a) Has a function to calculate the square footage of a house <br>\n",
    "    <b>Reminder of Formula: Length X Width == Area</b><br>\n",
    "        <hr>\n",
    "1b) Has a function to calculate the circumference of a circle 2 Pi r <br><br>\n",
    "<b>Program in Jupyter Notebook should take in user input and use imported functions to calculate a circle's circumference or a houses square footage</b>\n",
    "</p>"
   ]
  },
  {
   "cell_type": "code",
   "execution_count": null,
   "metadata": {},
   "outputs": [],
   "source": [
    "from module import HouseSq as hs\n",
    "\n",
    "hs()\n",
    "\n",
    "from module import Circumference as cir\n",
    "\n",
    "cir()"
   ]
  },
  {
   "cell_type": "markdown",
   "metadata": {},
   "source": [
    "### 2) Build a Shopping Cart Function <br>\n",
    "<p><b>You can use either lists or dictionaries. The program should have the following capabilities:</b><br><br>\n",
    "1) Takes in input <br>\n",
    "2) Stores user input into a dictionary or list <br>\n",
    "3) The User can add or delete items <br>\n",
    "4) The User can see current shopping list <br>\n",
    "5) The program Loops until user 'quits' <br>\n",
    "6) Upon quiting the program, print out all items in the user's list <br>\n",
    "</p>"
   ]
  }
 ],
 "metadata": {
  "kernelspec": {
   "display_name": "Python 3 (ipykernel)",
   "language": "python",
   "name": "python3"
  },
  "language_info": {
   "codemirror_mode": {
    "name": "ipython",
    "version": 3
   },
   "file_extension": ".py",
   "mimetype": "text/x-python",
   "name": "python",
   "nbconvert_exporter": "python",
   "pygments_lexer": "ipython3",
   "version": "3.11.5"
  }
 },
 "nbformat": 4,
 "nbformat_minor": 2
}
